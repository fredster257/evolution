{
 "cells": [
  {
   "cell_type": "markdown",
   "metadata": {
    "slideshow": {
     "slide_type": "slide"
    }
   },
   "source": [
    "<img src=\"../imgs/logo.png\" width=\"20%\" align=\"right\" style=\"margin:0px 20px\">\n",
    "\n",
    "\n",
    "# Evolutionary Computation\n",
    "\n",
    "## 5.2 CMA-ES\n",
    "\n",
    "<a rel=\"license\" href=\"http://creativecommons.org/licenses/by-sa/4.0/\"><img alt=\"Creative Commons License\" align=\"left\" src=\"https://i.creativecommons.org/l/by-sa/4.0/80x15.png\" /></a>&nbsp;| Dennis G. Wilson | <a href=\"https://d9w.github.io/evolution/\">https://d9w.github.io/evolution/</a>"
   ]
  },
  {
   "cell_type": "markdown",
   "metadata": {
    "slideshow": {
     "slide_type": "slide"
    }
   },
   "source": [
    "# CMA-ES\n",
    "\n",
    "In this section, we'll discuss the Covariance Matrix Adaptation Evolutionary Strategy, or CMA-ES [1, 2]. This is one of the most well-known evolutionary algorithms in general and is a state-of-the-art algorithm for continuous optimization. The strength of this method is that it adapts the distribution it uses to generate the next population based on the current distribution of individuals. In the previous section, we were limited to a Normal distribution with a fixed $\\sigma$. The adaptive distribution of CMA-ES means it will cross search spaces faster and narrow in more exactly on optimal points.\n",
    "\n",
    "[1] Hansen, Nikolaus, and Andreas Ostermeier. \"Adapting arbitrary normal mutation distributions in evolution strategies: The covariance matrix adaptation.\" Proceedings of IEEE international conference on evolutionary computation. IEEE, 1996.\n",
    "\n",
    "[2] Hansen, Nikolaus, and Andreas Ostermeier. \"Completely derandomized self-adaptation in evolution strategies.\" Evolutionary computation 9.2 (2001): 159-195."
   ]
  },
  {
   "cell_type": "markdown",
   "metadata": {
    "slideshow": {
     "slide_type": "slide"
    }
   },
   "source": [
    "Let's go through a simplified version of the algorithm from [3]. There are improvements to CMA-ES beyond this basic framework, but that's beyond the scope of today. [4] provides a good review of different CMA-ES modifications.\n",
    "\n",
    "[3] Hans-Georg Beyer (2007) Evolution strategies. Scholarpedia, 2(8):1965.\n",
    "\n",
    "[4] Hansen, Nikolaus. \"The CMA evolution strategy: a comparing review.\" Towards a new evolutionary computation. Springer, Berlin, Heidelberg, 2006. 75-102."
   ]
  },
  {
   "cell_type": "markdown",
   "metadata": {
    "slideshow": {
     "slide_type": "slide"
    }
   },
   "source": [
    "We'll start by creating a random individual $\\mathbf{y}$ which will be our first expert. We also create a diagonal covariance matrix $\\mathbf{C}$."
   ]
  },
  {
   "cell_type": "markdown",
   "metadata": {
    "slideshow": {
     "slide_type": "fragment"
    }
   },
   "source": [
    "$\\mbox{(L1):} \\quad \n",
    "  \\forall l=1, \\ldots, \\lambda : \\;\\;\n",
    "  \\begin{cases}\n",
    "   & \\mathbf{w}_l \n",
    "          \\leftarrow \\sigma \\sqrt{ \\mathbf{C} } \\,\n",
    "          \\mathbf{N}_l(\\mathbf{0}, \\mathbf{1}),\\\\[2mm]\n",
    "   & \\mathbf{y}_l \\leftarrow \\mathbf{y}  + \\mathbf{w}_l, \\\\[2mm]\n",
    "   & F_l \\leftarrow F(\\mathbf{y}_l),\n",
    "  \\end{cases}$"
   ]
  },
  {
   "cell_type": "markdown",
   "metadata": {
    "slideshow": {
     "slide_type": "fragment"
    }
   },
   "source": [
    "In the first step, (L1), $\\lambda$ offspring $\\mathbf{y}_l$ are created by transforming standard normally distributed random vectors using a transformation matrix $\\sqrt{\\mathbf{C}}$ which is given by Cholesky decomposition of the covariance matrix $\\mathbf{C}$ and the global step size factor $\\sigma$. We also evaluate every individual, creating $F$."
   ]
  },
  {
   "cell_type": "markdown",
   "metadata": {
    "slideshow": {
     "slide_type": "fragment"
    }
   },
   "source": [
    "$\\mbox{(L2):} \\quad \n",
    "      \\mathbf{y} \\leftarrow \\mathbf{y} + \\langle \\mathbf{w} \\rangle$"
   ]
  },
  {
   "cell_type": "markdown",
   "metadata": {
    "slideshow": {
     "slide_type": "fragment"
    }
   },
   "source": [
    "In (L2) the best $\\mu$ mutations are recombined forming the recombinant $\\mathbf{y}$ (center of mass individual) for the next generation. "
   ]
  },
  {
   "cell_type": "markdown",
   "metadata": {
    "slideshow": {
     "slide_type": "slide"
    }
   },
   "source": [
    "$\\mbox{(L3):} \\quad \n",
    "            \\mathbf{s} \\leftarrow \\left(1-\\frac{1}{\\tau}\\right)\\mathbf{s}\n",
    "          + \\sqrt{\\frac{\\mu}{\\tau} \\left(2-\\frac{1}{\\tau}\\right)} \\,\n",
    "            \\frac{\\langle \\mathbf{w} \\rangle}{\\sigma}$"
   ]
  },
  {
   "cell_type": "markdown",
   "metadata": {
    "slideshow": {
     "slide_type": "fragment"
    }
   },
   "source": [
    "Vector $\\langle \\mathbf{w} \\rangle$ combines individuals from two consecutive generations so $\\langle \\mathbf{w} \\rangle/\\sigma$ represents the tendency of evolution in the search space. In (L3), this information is cumulated in the $\\mathbf{s}$ vector, which exponentially decays with the time constant $\\tau$. A good default for this is $\\tau=\\sqrt{n}$."
   ]
  },
  {
   "cell_type": "markdown",
   "metadata": {
    "slideshow": {
     "slide_type": "fragment"
    }
   },
   "source": [
    "$\\mbox{(L4):} \\quad \n",
    "      \\mathbf{C} \\leftarrow \n",
    "      \\left(1-\\frac{1}{\\tau_{\\mathrm{c}}}\\right)\\mathbf{C}\n",
    "              + \\frac{1}{\\tau_{\\mathrm{c}}} \\mathbf{s} \\mathbf{s}^T$"
   ]
  },
  {
   "cell_type": "markdown",
   "metadata": {
    "slideshow": {
     "slide_type": "fragment"
    }
   },
   "source": [
    "In (L4), the direction vector $\\mathbf{s}$ is used to update the covariance matrix $\\mathbf{C}$ with time constant $\\tau_{\\mathrm{c}} \\propto n^2$"
   ]
  },
  {
   "cell_type": "markdown",
   "metadata": {
    "slideshow": {
     "slide_type": "slide"
    }
   },
   "source": [
    "$\\mbox{(L5):} \\quad  \n",
    "       \\mathbf{s}_\\sigma\n",
    "       \\leftarrow \\left(1-\\frac{1}{\\tau_\\sigma}\\right) \\mathbf{s}_\\sigma\n",
    "                  + \\sqrt{\\frac{\\mu}{\\tau_\\sigma}\n",
    "                    \\left(2-\\frac{1}{\\tau_\\sigma}\\right)} \\,\n",
    "                      \\langle \\mathbf{N}(\\mathbf{0}, \\mathbf{1}) \\rangle$"
   ]
  },
  {
   "cell_type": "markdown",
   "metadata": {
    "slideshow": {
     "slide_type": "slide"
    }
   },
   "source": [
    "$\\mbox{(L6):} \\quad  \n",
    "      \\sigma \\leftarrow \\sigma\\exp\\left[\n",
    "                        \\frac{\\| \\mathbf{s}_{\\sigma} \\|^2 - n}\n",
    "                                   {2 n \\sqrt{n} }\n",
    "                                        \\right]$"
   ]
  },
  {
   "cell_type": "markdown",
   "metadata": {
    "slideshow": {
     "slide_type": "fragment"
    }
   },
   "source": [
    "The distribution standard deviation $\\sigma$ is then calculated in (L5) and (L6) using the cumulated step size adaptation (CSA) technique with time constant $\\tau_\\sigma = \\sqrt{n}$ (initially $\\mathbf{s}_\\sigma = \\mathbf{0}$). $\\langle \\mathbf{N}(\\mathbf{0}, \\mathbf{1}) \\rangle$ is the distribution we calculated in (L1). "
   ]
  },
  {
   "cell_type": "markdown",
   "metadata": {
    "slideshow": {
     "slide_type": "slide"
    }
   },
   "source": [
    "So instead of simply using a Normal distribution to create the next generation, CMA-ES transforms a normal distribution by the covariance matrix $\\mathbf{C}$. It also moves at self-adjusting $\\sigma$. This makes its movement around the search space much more effective, as it is informed by the shape of the search space given through the fitness values $F$."
   ]
  },
  {
   "cell_type": "markdown",
   "metadata": {
    "slideshow": {
     "slide_type": "fragment"
    }
   },
   "source": [
    "Let's see an example of that."
   ]
  },
  {
   "cell_type": "code",
   "execution_count": 1,
   "metadata": {
    "slideshow": {
     "slide_type": "slide"
    }
   },
   "outputs": [],
   "source": [
    "using Random\n",
    "using LinearAlgebra\n",
    "using Statistics\n",
    "using Plots"
   ]
  },
  {
   "cell_type": "code",
   "execution_count": 2,
   "metadata": {
    "slideshow": {
     "slide_type": "fragment"
    }
   },
   "outputs": [
    {
     "data": {
      "text/plain": [
       "sphere (generic function with 1 method)"
      ]
     },
     "execution_count": 2,
     "metadata": {},
     "output_type": "execute_result"
    }
   ],
   "source": [
    "solution = [3.5, -0.2]\n",
    "sphere(x::Array{Float64}) = sum((x .- solution).^2)\n",
    "himmelblau(x::Array{Float64}) = (x[1]^2 + x[2] - 11)^2 + (x[1] + x[2]^2 - 7)^2\n",
    "styblinski_tang(x::Array{Float64}) = sum(x.^4 .- 16 .* x.^2 .+ 5 .* x) / 2.0\n",
    "rastrigin(x::Array{Float64}) = 10.0 * length(x) .+ sum((x .- solution).^2 .- 10 .* cos.(2*pi.*(x .- solution)))\n",
    "objective = sphere"
   ]
  },
  {
   "cell_type": "markdown",
   "metadata": {
    "slideshow": {
     "slide_type": "slide"
    }
   },
   "source": [
    "As with last time, we'll optimize over 2 continuous variables. We'll set default values of the time constants based on $N$. These are recommended values for CMA-ES [5]\n",
    "\n",
    "[5] Hansen, Nikolaus, Sibylle D. Müller, and Petros Koumoutsakos. \"Reducing the time complexity of the derandomized evolution strategy with covariance matrix adaptation (CMA-ES).\" Evolutionary computation 11.1 (2003): 1-18."
   ]
  },
  {
   "cell_type": "code",
   "execution_count": 3,
   "metadata": {
    "slideshow": {
     "slide_type": "fragment"
    }
   },
   "outputs": [],
   "source": [
    "N = 2\n",
    "μ = 5\n",
    "λ = 10\n",
    "τ = sqrt(N)\n",
    "τ_c = N^2\n",
    "τ_σ = sqrt(N);"
   ]
  },
  {
   "cell_type": "markdown",
   "metadata": {
    "slideshow": {
     "slide_type": "slide"
    }
   },
   "source": [
    "Now let's make our random expert and create placeholder fitness and offspring vectors."
   ]
  },
  {
   "cell_type": "code",
   "execution_count": 4,
   "metadata": {
    "slideshow": {
     "slide_type": "fragment"
    }
   },
   "outputs": [],
   "source": [
    "y = randn(N)\n",
    "offspring = Array{Array{Float64}}(undef, λ)\n",
    "F = Inf .* ones(λ);"
   ]
  },
  {
   "cell_type": "markdown",
   "metadata": {
    "slideshow": {
     "slide_type": "fragment"
    }
   },
   "source": [
    "Finally, we need to initialize $\\mathbf{C}, \\mathbf{N}, \\mathbf{w}, \\mathbf{s}, \\mathbf{s_\\sigma},$ and $\\mathbf{\\sigma}$."
   ]
  },
  {
   "cell_type": "code",
   "execution_count": 5,
   "metadata": {
    "slideshow": {
     "slide_type": "fragment"
    }
   },
   "outputs": [],
   "source": [
    "C = Diagonal{Float64}(I, N)\n",
    "W = zeros(N, λ)\n",
    "s = zeros(N)\n",
    "s_σ = zeros(N)\n",
    "σ = 1.0\n",
    "E = zeros(N, λ);"
   ]
  },
  {
   "cell_type": "markdown",
   "metadata": {
    "slideshow": {
     "slide_type": "slide"
    }
   },
   "source": [
    "Step 1: We calculate the offspring distribution $\\mathbf{w}$ then center it at the center-of-mass individual $\\mathbf{y}$."
   ]
  },
  {
   "cell_type": "markdown",
   "metadata": {
    "slideshow": {
     "slide_type": "fragment"
    }
   },
   "source": [
    "$\\mbox{(L1):} \\quad \n",
    "  \\forall l=1, \\ldots, \\lambda : \\;\\;\n",
    "  \\begin{cases}\n",
    "   & \\mathbf{w}_l \n",
    "          \\leftarrow \\sigma \\sqrt{ \\mathbf{C} } \\,\n",
    "          \\mathbf{N}_l(\\mathbf{0}, \\mathbf{1}),\\\\[2mm]\n",
    "   & \\mathbf{y}_l \\leftarrow \\mathbf{y}  + \\mathbf{w}_l, \\\\[2mm]\n",
    "   & F_l \\leftarrow F(\\mathbf{y}_l),\n",
    "  \\end{cases}$"
   ]
  },
  {
   "cell_type": "code",
   "execution_count": 6,
   "metadata": {
    "slideshow": {
     "slide_type": "fragment"
    }
   },
   "outputs": [
    {
     "data": {
      "text/plain": [
       "2×2 Diagonal{Float64, Vector{Float64}}:\n",
       " 1.0   ⋅ \n",
       "  ⋅   1.0"
      ]
     },
     "execution_count": 6,
     "metadata": {},
     "output_type": "execute_result"
    }
   ],
   "source": [
    "sqrt_c = cholesky((C + C') / 2.0).U"
   ]
  },
  {
   "cell_type": "markdown",
   "metadata": {
    "slideshow": {
     "slide_type": "fragment"
    }
   },
   "source": [
    "Note that our $\\mathbf{C}$ covariance matrix is currently 1, so this first distribution will just be a normal distribution without any transformation. We will then evaluate every individual."
   ]
  },
  {
   "cell_type": "code",
   "execution_count": 7,
   "metadata": {
    "slideshow": {
     "slide_type": "slide"
    }
   },
   "outputs": [],
   "source": [
    "for i in 1:λ\n",
    "    E[:,i] = randn(N)\n",
    "    W[:,i] = σ * (sqrt_c * E[:,i])\n",
    "    offspring[i] = y + W[:,i]\n",
    "    F[i] = objective(offspring[i])\n",
    "end"
   ]
  },
  {
   "cell_type": "markdown",
   "metadata": {
    "slideshow": {
     "slide_type": "fragment"
    }
   },
   "source": [
    "Now that we have evaluated the individuals, we will select a subset of them to inform the next generation. We'll simply use a truncation selection, taking the top $\\mu$ individuals."
   ]
  },
  {
   "cell_type": "code",
   "execution_count": 8,
   "metadata": {
    "slideshow": {
     "slide_type": "fragment"
    }
   },
   "outputs": [
    {
     "data": {
      "text/plain": [
       "5-element Vector{Int64}:\n",
       "  5\n",
       "  7\n",
       "  4\n",
       "  6\n",
       " 10"
      ]
     },
     "execution_count": 8,
     "metadata": {},
     "output_type": "execute_result"
    }
   ],
   "source": [
    "idx = sortperm(F)[1:μ]"
   ]
  },
  {
   "cell_type": "markdown",
   "metadata": {
    "slideshow": {
     "slide_type": "slide"
    }
   },
   "source": [
    "Now step 2. We update $\\mathbf{y}$ using the top $\\mu$ individuals in $\\mathbf{w}$"
   ]
  },
  {
   "cell_type": "markdown",
   "metadata": {
    "slideshow": {
     "slide_type": "fragment"
    }
   },
   "source": [
    "$\\mbox{(L2):} \\quad \n",
    "      \\mathbf{y} \\leftarrow \\mathbf{y} + \\langle \\mathbf{w} \\rangle$"
   ]
  },
  {
   "cell_type": "code",
   "execution_count": 9,
   "metadata": {
    "slideshow": {
     "slide_type": "fragment"
    }
   },
   "outputs": [
    {
     "data": {
      "text/plain": [
       "2-element Vector{Float64}:\n",
       "  0.6493046881550877\n",
       " -0.6149812105817996"
      ]
     },
     "execution_count": 9,
     "metadata": {},
     "output_type": "execute_result"
    }
   ],
   "source": [
    "w = vec(mean(W[:,idx], dims=2))\n",
    "y += w"
   ]
  },
  {
   "cell_type": "markdown",
   "metadata": {
    "slideshow": {
     "slide_type": "slide"
    }
   },
   "source": [
    "In step 3, we update the direction vector $\\mathbf{s}$."
   ]
  },
  {
   "cell_type": "markdown",
   "metadata": {
    "slideshow": {
     "slide_type": "fragment"
    }
   },
   "source": [
    "$\\mbox{(L3):} \\quad \n",
    "            \\mathbf{s} \\leftarrow \\left(1-\\frac{1}{\\tau}\\right)\\mathbf{s}\n",
    "          + \\sqrt{\\frac{\\mu}{\\tau} \\left(2-\\frac{1}{\\tau}\\right)} \\,\n",
    "            \\frac{\\langle \\mathbf{w} \\rangle}{\\sigma}$"
   ]
  },
  {
   "cell_type": "code",
   "execution_count": 10,
   "metadata": {
    "slideshow": {
     "slide_type": "fragment"
    }
   },
   "outputs": [
    {
     "data": {
      "text/plain": [
       "2-element Vector{Float64}:\n",
       "  1.9733679648978908\n",
       " -0.39543723543666215"
      ]
     },
     "execution_count": 10,
     "metadata": {},
     "output_type": "execute_result"
    }
   ],
   "source": [
    "s = (1.0 - 1.0/τ)*s + (sqrt(μ/τ * (2.0 - 1.0/τ))/σ)*w"
   ]
  },
  {
   "cell_type": "markdown",
   "metadata": {
    "slideshow": {
     "slide_type": "fragment"
    }
   },
   "source": [
    "Next we update our covariance matrix $\\mathbf{C}$. Note that it will no longer be a diagonal matrix: our next update will use a transformed distribution to generate the population."
   ]
  },
  {
   "cell_type": "markdown",
   "metadata": {
    "slideshow": {
     "slide_type": "slide"
    }
   },
   "source": [
    "$\\mbox{(L4):} \\quad \n",
    "      \\mathbf{C} \\leftarrow \n",
    "      \\left(1-\\frac{1}{\\tau_{\\mathrm{c}}}\\right)\\mathbf{C}\n",
    "              + \\frac{1}{\\tau_{\\mathrm{c}}} \\mathbf{s} \\mathbf{s}^T$"
   ]
  },
  {
   "cell_type": "code",
   "execution_count": 11,
   "metadata": {
    "slideshow": {
     "slide_type": "fragment"
    }
   },
   "outputs": [
    {
     "data": {
      "text/plain": [
       "2×2 Matrix{Float64}:\n",
       "  1.72355   -0.195086\n",
       " -0.195086   0.789093"
      ]
     },
     "execution_count": 11,
     "metadata": {},
     "output_type": "execute_result"
    }
   ],
   "source": [
    "C = (1.0 - 1.0/τ_c).*C + (s./τ_c)*s'"
   ]
  },
  {
   "cell_type": "markdown",
   "metadata": {
    "slideshow": {
     "slide_type": "slide"
    }
   },
   "source": [
    "Finally, we update the $\\sigma$, which is the standard deviation of the distribution we generate in the first step. Note that its initial value was `1.0`."
   ]
  },
  {
   "cell_type": "markdown",
   "metadata": {
    "slideshow": {
     "slide_type": "fragment"
    }
   },
   "source": [
    "$\\mbox{(L5):} \\quad  \n",
    "       \\mathbf{s}_\\sigma\n",
    "       \\leftarrow \\left(1-\\frac{1}{\\tau_\\sigma}\\right) \\mathbf{s}_\\sigma\n",
    "                  + \\sqrt{\\frac{\\mu}{\\tau_\\sigma}\n",
    "                    \\left(2-\\frac{1}{\\tau_\\sigma}\\right)} \\,\n",
    "                      \\langle \\mathbf{N}(\\mathbf{0}, \\mathbf{1}) \\rangle$"
   ]
  },
  {
   "cell_type": "markdown",
   "metadata": {
    "slideshow": {
     "slide_type": "fragment"
    }
   },
   "source": [
    "$\\mbox{(L6):} \\quad  \n",
    "      \\sigma \\leftarrow \\sigma\\exp\\left[\n",
    "                        \\frac{\\| \\mathbf{s}_{\\sigma} \\|^2 - n}\n",
    "                                   {2 n \\sqrt{n} }\n",
    "                                        \\right]$"
   ]
  },
  {
   "cell_type": "code",
   "execution_count": 12,
   "metadata": {
    "slideshow": {
     "slide_type": "fragment"
    }
   },
   "outputs": [
    {
     "data": {
      "text/plain": [
       "1.436902505200635"
      ]
     },
     "execution_count": 12,
     "metadata": {},
     "output_type": "execute_result"
    }
   ],
   "source": [
    "ɛ = vec(mean(E[:,idx], dims=2))\n",
    "s_σ = (1.0 - 1.0/τ_σ)*s_σ + sqrt(μ/τ_σ*(2.0 - 1.0/τ_σ))*ɛ\n",
    "σ = σ*exp(((s_σ'*s_σ)[1] - N)/(2*N*sqrt(N)))"
   ]
  },
  {
   "cell_type": "markdown",
   "metadata": {
    "slideshow": {
     "slide_type": "fragment"
    }
   },
   "source": [
    "That's a lot! Let's put it all together in an object and see how it runs over multiple iterations."
   ]
  },
  {
   "cell_type": "code",
   "execution_count": 13,
   "metadata": {
    "slideshow": {
     "slide_type": "slide"
    }
   },
   "outputs": [],
   "source": [
    "mutable struct CMAES\n",
    "    N::Int\n",
    "    μ::Int\n",
    "    λ::Int\n",
    "    τ::Float64\n",
    "    τ_c::Float64\n",
    "    τ_σ::Float64\n",
    "    population::Array{Array{Float64}}\n",
    "    offspring::Array{Array{Float64}}\n",
    "    F_μ::Array{Float64}\n",
    "    F_λ::Array{Float64}\n",
    "    C::Array{Float64}\n",
    "    s::Array{Float64}\n",
    "    s_σ::Array{Float64}\n",
    "    σ::Float64\n",
    "    E::Array{Float64}\n",
    "    W::Array{Float64}\n",
    "    x::Array{Float64}\n",
    "end"
   ]
  },
  {
   "cell_type": "code",
   "execution_count": 38,
   "metadata": {
    "slideshow": {
     "slide_type": "slide"
    }
   },
   "outputs": [
    {
     "data": {
      "text/plain": [
       "CMAES"
      ]
     },
     "execution_count": 38,
     "metadata": {},
     "output_type": "execute_result"
    }
   ],
   "source": [
    "function CMAES(;N=2, μ=3, λ=30, τ=sqrt(N), τ_c=N^2, τ_σ=sqrt(N))\n",
    "    x = randn(N)\n",
    "    population = fill(x, µ)\n",
    "    offspring = Array{Array{Float64}}(undef, λ)\n",
    "    F_µ = Inf .* ones(µ)\n",
    "    F_λ = Inf .* ones(λ)\n",
    "    C = Array(Diagonal{Float64}(I, N))\n",
    "    s = zeros(N)\n",
    "    s_σ = zeros(N)\n",
    "    σ = 1.0\n",
    "    E = zeros(N, λ)\n",
    "    W = zeros(N, λ);\n",
    "    CMAES(N, μ, λ, τ, τ_c, τ_σ, population, offspring, F_µ, F_λ, C, s, s_σ, σ, E, W, x)\n",
    "end"
   ]
  },
  {
   "cell_type": "code",
   "execution_count": 34,
   "metadata": {
    "scrolled": true,
    "slideshow": {
     "slide_type": "fragment"
    }
   },
   "outputs": [
    {
     "data": {
      "text/plain": [
       "CMAES(2, 1, 10, 1.4142135623730951, 4.0, 1.4142135623730951, Array{Float64, N} where N[[-0.19312608328239342, 0.6758589807567758]], Array{Float64, N} where N[#undef, #undef, #undef, #undef, #undef, #undef, #undef, #undef, #undef, #undef], [Inf], [Inf, Inf, Inf, Inf, Inf, Inf, Inf, Inf, Inf, Inf], [1.0 0.0; 0.0 1.0], [0.0, 0.0], [0.0, 0.0], 1.0, [0.0 0.0 … 0.0 0.0; 0.0 0.0 … 0.0 0.0], [0.0 0.0 … 0.0 0.0; 0.0 0.0 … 0.0 0.0], [-0.19312608328239342, 0.6758589807567758])"
      ]
     },
     "execution_count": 34,
     "metadata": {},
     "output_type": "execute_result"
    }
   ],
   "source": [
    "c = CMAES()"
   ]
  },
  {
   "cell_type": "code",
   "execution_count": 35,
   "metadata": {
    "slideshow": {
     "slide_type": "slide"
    }
   },
   "outputs": [
    {
     "data": {
      "text/plain": [
       "step! (generic function with 1 method)"
      ]
     },
     "execution_count": 35,
     "metadata": {},
     "output_type": "execute_result"
    }
   ],
   "source": [
    "function step!(c::CMAES; obj=objective, visualize=false, anim=Nothing)\n",
    "    # L1\n",
    "    sqrt_c = cholesky((c.C + c.C') / 2.0).U\n",
    "    for i in 1:c.λ\n",
    "        c.E[:,i] = randn(c.N)\n",
    "        c.W[:,i] = c.σ * (sqrt_c * c.E[:,i])\n",
    "        c.offspring[i] = c.x + c.W[:,i]\n",
    "        c.F_λ[i] = obj(c.offspring[i])\n",
    "    end    \n",
    "    # Select new parent population\n",
    "    idx = sortperm(c.F_λ)[1:c.μ]\n",
    "    for i in 1:c.μ\n",
    "        c.population[i] = c.offspring[idx[i]]\n",
    "        c.F_μ[i] = c.F_λ[idx[i]]\n",
    "    end    \n",
    "    # L2\n",
    "    w = vec(mean(c.W[:,idx], dims=2))\n",
    "    c.x += w    \n",
    "    # L3\n",
    "    c.s = (1.0 - 1.0/c.τ)*c.s + (sqrt(c.μ/c.τ * (2.0 - 1.0/c.τ))/c.σ)*w   \n",
    "    # L4\n",
    "    c.C = (1.0 - 1.0/c.τ_c).*c.C + (c.s./c.τ_c)*c.s'    \n",
    "    # L5\n",
    "    ɛ = vec(mean(c.E[:,idx], dims=2))\n",
    "    c.s_σ = (1.0 - 1.0/c.τ_σ)*c.s_σ + sqrt(c.μ/c.τ_σ*(2.0 - 1.0/c.τ_σ))*ɛ    \n",
    "    # L6\n",
    "    c.σ = c.σ*exp(((c.s_σ'*c.s_σ)[1] - c.N)/(2*c.N*sqrt(c.N)))\n",
    "    if visualize\n",
    "        plot(xs, ys, fz, st=:contour)\n",
    "        scatter!([c.offspring[i][1] for i in 1:λ], [c.offspring[i][2] for i in 1:λ], \n",
    "            xlims=(-5, 5), ylims=(-5, 5), legend=:none)\n",
    "        scatter!([c.x[1]], [c.x[2]], color=:black, marker=:rect,\n",
    "            xlims=(-5, 5), ylims=(-5, 5), legend=:none)\n",
    "        frame(anim)\n",
    "    end\n",
    "    c\n",
    "end"
   ]
  },
  {
   "cell_type": "code",
   "execution_count": 36,
   "metadata": {
    "slideshow": {
     "slide_type": "slide"
    }
   },
   "outputs": [
    {
     "data": {
      "text/plain": [
       "plot_obj (generic function with 1 method)"
      ]
     },
     "execution_count": 36,
     "metadata": {},
     "output_type": "execute_result"
    }
   ],
   "source": [
    "function plot_obj()\n",
    "    c = CMAES()\n",
    "    println(\"x initial: \", c.x)\n",
    "    anim = Animation()\n",
    "    for i in 1:100\n",
    "        v = mod(i, 1) == 0\n",
    "        step!(c, visualize=v, anim=anim)\n",
    "    end\n",
    "    println(\"x final: \", c.x)\n",
    "    gif(anim)\n",
    "end"
   ]
  },
  {
   "cell_type": "code",
   "execution_count": 39,
   "metadata": {
    "slideshow": {
     "slide_type": "slide"
    }
   },
   "outputs": [
    {
     "name": "stdout",
     "output_type": "stream",
     "text": [
      "[3.5, -0.2]\n",
      "x initial: [0.28114401767293096, -0.0033163124200586017]\n",
      "x final: [3.499999999546747, 0.7949586371862407]\n"
     ]
    },
    {
     "name": "stderr",
     "output_type": "stream",
     "text": [
      "┌ Info: Saved animation to \n",
      "│   fn = C:\\Users\\Frederic\\Documents\\GitHub\\evolution\\5_strategies\\tmp.gif\n",
      "└ @ Plots C:\\Users\\Frederic\\.julia\\packages\\Plots\\8GUYs\\src\\animation.jl:102\n"
     ]
    },
    {
     "data": {
      "text/html": [
       "<img src=\"data:image/gif;base64,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\" />"
      ],
      "text/plain": [
       "Plots.AnimatedGif(\"C:\\\\Users\\\\Frederic\\\\Documents\\\\GitHub\\\\evolution\\\\5_strategies\\\\tmp.gif\")"
      ]
     },
     "execution_count": 39,
     "metadata": {},
     "output_type": "execute_result"
    }
   ],
   "source": [
    "xs = -5.0:0.1:5.0\n",
    "ys = -5.0:0.1:5.0\n",
    "\n",
    "objective = rastrigin # sphere, himmelblau, styblinski_tang, rastrigin\n",
    "fz(x, y) = objective([x, y])\n",
    "println(solution) # optimal for sphere and rastrigin\n",
    "plot_obj()"
   ]
  },
  {
   "cell_type": "markdown",
   "metadata": {
    "slideshow": {
     "slide_type": "slide"
    }
   },
   "source": [
    "<div class=\"alert alert-success\">\n",
    "    <b>Exercise</b>\n",
    "    <br/>\n",
    "    Modify the parent population size and child population of the problem. Can you get CMA-ES to reliably converge on the Rastrigin function? What about for higer dimensions of $n$? Report your $\\mu$ and $\\lambda$ values in the class chat.\n",
    "</div>    "
   ]
  },
  {
   "cell_type": "code",
   "execution_count": null,
   "metadata": {},
   "outputs": [],
   "source": []
  }
 ],
 "metadata": {
  "@webio": {
   "lastCommId": null,
   "lastKernelId": null
  },
  "celltoolbar": "Slideshow",
  "kernelspec": {
   "display_name": "Julia 1.6.1",
   "language": "julia",
   "name": "julia-1.6"
  },
  "language_info": {
   "file_extension": ".jl",
   "mimetype": "application/julia",
   "name": "julia",
   "version": "1.6.1"
  }
 },
 "nbformat": 4,
 "nbformat_minor": 2
}
