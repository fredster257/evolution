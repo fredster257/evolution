{
 "cells": [
  {
   "cell_type": "markdown",
   "id": "aa744f2c",
   "metadata": {
    "slideshow": {
     "slide_type": "slide"
    }
   },
   "source": [
    "# <center> EVOLUTIONARY COMPUTATION \n",
    "## <center> EVOLUTION OF NEURAL NETWORKS\n",
    "<center>\n",
    "<img src=\"../imgs/logo.png\" width=\"30%\"></center>"
   ]
  },
  {
   "cell_type": "markdown",
   "id": "4b85de1f",
   "metadata": {},
   "source": [
    "<center> Paul Templier - paul.templier@isae-supaero.fr"
   ]
  },
  {
   "cell_type": "markdown",
   "id": "broken-charleston",
   "metadata": {
    "slideshow": {
     "slide_type": "slide"
    }
   },
   "source": [
    "## Motivation"
   ]
  },
  {
   "cell_type": "markdown",
   "id": "polish-validation",
   "metadata": {
    "cell_style": "center"
   },
   "source": [
    "<center><img src=\"../imgs/agent_representations.png\" width=\"50%\">\n",
    "\n",
    "<!-- $\\pi: s\\rightarrow a$ -->"
   ]
  },
  {
   "cell_type": "markdown",
   "id": "amended-cologne",
   "metadata": {
    "cell_style": "center",
    "slideshow": {
     "slide_type": "subslide"
    }
   },
   "source": [
    "## Evolution of neural networks\n",
    "\n",
    "<center><img src=\"../imgs/intro_neuroevolution.png\" width=\"50%\">\n",
    "\n",
    "*Miikkulainen, Risto. \"Evolution of neural networks.\" Proceedings of the Genetic and Evolutionary Computation Conference Companion. 2017*"
   ]
  },
  {
   "cell_type": "markdown",
   "id": "gross-lafayette",
   "metadata": {
    "slideshow": {
     "slide_type": "slide"
    }
   },
   "source": [
    "## Neural Networks"
   ]
  },
  {
   "cell_type": "markdown",
   "id": "legal-prototype",
   "metadata": {},
   "source": [
    "### Neuron model\n",
    "<center><img src=\"../imgs/neuron.jpg\" width=\"50%\">\n"
   ]
  },
  {
   "cell_type": "markdown",
   "id": "miniature-township",
   "metadata": {
    "slideshow": {
     "slide_type": "subslide"
    }
   },
   "source": [
    "### Artificial neuron\n",
    "\n",
    "<center><img src=\"../imgs/neuron_model.jpeg\" width=\"50%\">\n",
    "\n",
    "<center>cs231n.github.io\n",
    "\n",
    "<!-- $f(\\sum_{i}{w_i x_i} +b)$ -->\n",
    "\n",
    "$w_i$: weights  \n",
    "$x_i$: output of previous neurons  \n",
    "$b$: bias  \n",
    "$f$: activation function to break linearity \n",
    "\n",
    "\n"
   ]
  },
  {
   "cell_type": "markdown",
   "id": "2832487f",
   "metadata": {
    "slideshow": {
     "slide_type": "subslide"
    }
   },
   "source": [
    "### Artificial Neural Network\n",
    "<center><img src=\"../imgs/neural_network.png\" width=\"50%\">\n",
    "    \n",
    "    \n",
    "$(y_1 ... y_n) = F(x_1 ... x_m)$\n",
    "    \n",
    "    \n",
    "*Source: https://medium.com/swlh/neural-networks-4b6f719f9d75*"
   ]
  },
  {
   "cell_type": "markdown",
   "id": "initial-railway",
   "metadata": {
    "cell_style": "center",
    "slideshow": {
     "slide_type": "slide"
    }
   },
   "source": [
    "## <center> Exercise </center>\n",
    "<br>  \n",
    "<center> Break into groups and discuss: </center>\n",
    "<br>\n",
    "<center>What do we need in the genome to optimize a neural network? How would you encode it? </center>\n",
    "<br>\n",
    "<center>Can you find mutation and crossover operators on your encoding?</center>"
   ]
  },
  {
   "cell_type": "markdown",
   "id": "structured-winning",
   "metadata": {
    "slideshow": {
     "slide_type": "slide"
    }
   },
   "source": [
    "# <center> NEUROEVOLUTION </center>"
   ]
  },
  {
   "cell_type": "markdown",
   "id": "closing-australia",
   "metadata": {
    "cell_style": "split",
    "slideshow": {
     "slide_type": "-"
    }
   },
   "source": [
    "<center><img src=\"../imgs/cellular_encoding.png\" width=\"60%\">\n",
    "\n",
    "Gruau, Frederic, and Darrell Whitley. \"Adding learning to the cellular development of neural networks: Evolution and the Baldwin effect.\" Evolutionary computation 1.3 (1993): 213-233. "
   ]
  },
  {
   "cell_type": "markdown",
   "id": "weird-conspiracy",
   "metadata": {
    "cell_style": "split"
   },
   "source": [
    "<center><img src=\"../imgs/barr.png\" width=\"50%\">\n",
    "\n",
    "Fleischer, Kurt, and Alan H. Barr. \"A simulation testbed for the study of multicellular development: The multiple mechanisms of morphogenesis.\" 1994 "
   ]
  },
  {
   "cell_type": "markdown",
   "id": "reliable-abortion",
   "metadata": {
    "slideshow": {
     "slide_type": "subslide"
    }
   },
   "source": [
    "# <center> NeuroEvolution of Augmenting Topologies (NEAT) </center>"
   ]
  },
  {
   "cell_type": "markdown",
   "id": "final-hybrid",
   "metadata": {
    "cell_style": "center"
   },
   "source": [
    "<center><img src=\"../imgs/neat_encoding.png\" width=\"60%\">\n",
    "        \n",
    "Stanley, Kenneth O., and Risto Miikkulainen. \"Evolving neural networks through augmenting topologies.\" Evolutionary computation 10.2 (2002): 99-127 "
   ]
  },
  {
   "cell_type": "markdown",
   "id": "silver-infection",
   "metadata": {},
   "source": [
    "    \n",
    "Stanley, Kenneth O., and Risto Miikkulainen. \"Evolving neural networks through augmenting topologies.\" Evolutionary computation 10.2 (2002): 99-127 "
   ]
  },
  {
   "cell_type": "markdown",
   "id": "fitted-centre",
   "metadata": {
    "slideshow": {
     "slide_type": "subslide"
    }
   },
   "source": [
    "# <center> NEUROEVOLUTION: FIXED ARCHITECTURE </center>\n",
    "\n",
    "<center><img src=\"../imgs/ne_basics.png\" width=\"50%\">\n",
    "\n",
    "Miikkulainen, Risto. \"Evolution of neural networks.\" Proceedings of the Genetic and Evolutionary Computation Conference Companion. 2017. "
   ]
  },
  {
   "cell_type": "markdown",
   "id": "7f7cc9dc",
   "metadata": {
    "slideshow": {
     "slide_type": "subslide"
    }
   },
   "source": [
    "# <center> PROBLEMS WITH NEUROEVOLUTION </center>\n",
    "\n",
    "<center><img src=\"../imgs/ne_problems.png\" width=\"40%\">\n",
    "\n",
    "Miikkulainen, Risto. \"Evolution of neural networks.\" Proceedings of the Genetic and Evolutionary Computation Conference Companion. 2017. "
   ]
  },
  {
   "cell_type": "markdown",
   "id": "5dc2e085",
   "metadata": {
    "slideshow": {
     "slide_type": "slide"
    }
   },
   "source": [
    "# <center> INDIRECT ENCODING </center>\n",
    "\n",
    "<center><img src=\"../imgs/encoding.png\" width=\"50%\">\n",
    "    \n"
   ]
  },
  {
   "cell_type": "markdown",
   "id": "27eb7a98",
   "metadata": {
    "slideshow": {
     "slide_type": "subslide"
    }
   },
   "source": [
    "# <center> HyperNEAT </center>\n",
    "\n",
    "<center><img src=\"../imgs/indirect_hyperneat.png\" width=\"50%\">\n",
    "\n",
    "<center><img src=\"../imgs/hyperneat.png\" width=\"50%\">\n",
    "    \n",
    "Stanley, Kenneth O.; D'Ambrosio, David B.; Gauci, Jason (2009-01-14). \"A Hypercube-Based Encoding for Evolving Large-Scale Neural Networks\". Artificial Life journal 15(2), Cambridge, MA: MIT Press, 2009"
   ]
  },
  {
   "cell_type": "markdown",
   "id": "c1b3a847",
   "metadata": {
    "slideshow": {
     "slide_type": "subslide"
    }
   },
   "source": [
    "# <center> GENE: Geometric Encoding for NeuroEvolution </center>\n",
    "\n",
    "<center><img src=\"../imgs/indirect_transform.png\" width=\"50%\">\n",
    "   "
   ]
  },
  {
   "cell_type": "markdown",
   "id": "50dfcf11",
   "metadata": {
    "cell_style": "split"
   },
   "source": [
    "<center><img src=\"../imgs/coordsnet_coordinates.png\" width=\"40%\">"
   ]
  },
  {
   "cell_type": "markdown",
   "id": "a6bff363",
   "metadata": {
    "cell_style": "split"
   },
   "source": [
    "<center><img src=\"../imgs/coordsnet_graph.png\" width=\"50%\">"
   ]
  },
  {
   "cell_type": "markdown",
   "id": "89a296ae",
   "metadata": {},
   "source": [
    "*Paul Templier, Emmanuel Rachelson, and Dennis G. Wilson. 2021. A Geometric Encoding for Neural Network Evolution. In 2021 Genetic and Evolutionary Computation Conference (GECCO ’21), July 10–14, 2021, Lille, France. ACM, New York, NY, USA, 9 pages. https://doi.org/10.1145/3449639.3459361*"
   ]
  },
  {
   "cell_type": "markdown",
   "id": "803f40bd",
   "metadata": {
    "slideshow": {
     "slide_type": "slide"
    }
   },
   "source": [
    "# Notebook"
   ]
  },
  {
   "cell_type": "code",
   "execution_count": 4,
   "id": "legislative-touch",
   "metadata": {
    "slideshow": {
     "slide_type": "-"
    }
   },
   "outputs": [],
   "source": [
    "using Pkg\n",
    "pkg\"add PyCall Flux Plots Random Statistics ArcadeLearningEnvironment Reel Images ImageView\""
   ]
  },
  {
   "cell_type": "code",
   "execution_count": 5,
   "id": "center-exposure",
   "metadata": {
    "slideshow": {
     "slide_type": "-"
    }
   },
   "outputs": [],
   "source": [
    "using PyCall\n",
    "using Flux\n",
    "using Plots\n",
    "using Random\n",
    "using Statistics"
   ]
  },
  {
   "cell_type": "code",
   "execution_count": 6,
   "id": "portable-future",
   "metadata": {},
   "outputs": [
    {
     "data": {
      "text/plain": [
       "PyObject <module 'gym' from 'C:\\\\Users\\\\Frederic\\\\.julia\\\\conda\\\\3\\\\lib\\\\site-packages\\\\gym\\\\__init__.py'>"
      ]
     },
     "execution_count": 6,
     "metadata": {},
     "output_type": "execute_result"
    }
   ],
   "source": [
    "gym = pyimport(\"gym\")"
   ]
  },
  {
   "cell_type": "markdown",
   "id": "friendly-staff",
   "metadata": {
    "slideshow": {
     "slide_type": "subslide"
    }
   },
   "source": [
    "## Gym CartPole\n",
    "\n",
    "<img src=\"../imgs/cartpole.gif\" width=\"50%\">\n",
    "\n",
    "https://github.com/adibyte95/CartPole-OpenAI-GYM/blob/master/gif%20images/reinforcement-gif.gif"
   ]
  },
  {
   "cell_type": "code",
   "execution_count": 7,
   "id": "happy-method",
   "metadata": {
    "cell_style": "center",
    "slideshow": {
     "slide_type": "subslide"
    }
   },
   "outputs": [
    {
     "data": {
      "text/plain": [
       "Individual"
      ]
     },
     "execution_count": 7,
     "metadata": {},
     "output_type": "execute_result"
    }
   ],
   "source": [
    "mutable struct Individual\n",
    "    genes::Array{Float64}\n",
    "    fitness::Float64\n",
    "    layers::Array{Int64}\n",
    "    model\n",
    "end\n",
    "\n",
    "function Individual(layers::Array, genes::Array{Float64})\n",
    "    model = make_network(layers)\n",
    "    \n",
    "    ind = Individual(genes, -Inf, layers, model)\n",
    "    \n",
    "    set_weights!(ind) \n",
    "    ind\n",
    "end\n",
    "\n",
    "function Individual(layers::Array)\n",
    "    model = make_network(layers)\n",
    "    \n",
    "    param_lengths = [length(p) for p in params(model)]\n",
    "    genes = rand(sum(param_lengths))\n",
    "    \n",
    "    ind = Individual(genes, -Inf, layers, model)\n",
    "    set_weights!(ind)  \n",
    "    ind\n",
    "end"
   ]
  },
  {
   "cell_type": "code",
   "execution_count": 16,
   "id": "voluntary-communist",
   "metadata": {
    "cell_style": "center",
    "slideshow": {
     "slide_type": "subslide"
    }
   },
   "outputs": [
    {
     "data": {
      "text/plain": [
       "mutate (generic function with 1 method)"
      ]
     },
     "execution_count": 16,
     "metadata": {},
     "output_type": "execute_result"
    }
   ],
   "source": [
    "function set_weights!(ind::Individual)    \n",
    "    start = 1\n",
    "    for p in params(ind.model)\n",
    "        p = reshape(ind.genes[start:(start+length(p)-1)], size(p))\n",
    "        start += length(p)\n",
    "    end\n",
    "    ind\n",
    "end\n",
    "\n",
    "function make_network(layers::Array)\n",
    "    l = []\n",
    "    for i in 1:length(layers)-1\n",
    "        d = Dense(layers[i], layers[i+1], Flux.relu)\n",
    "        push!(l, d)\n",
    "    end\n",
    "    Chain(l...)\n",
    "end\n",
    "\n",
    "function mutate(ind::Individual; \n",
    "        mutation_rate::Float64=1.0/length(ind.genes))\n",
    "    new_genes = copy(ind.genes)\n",
    "    for i in eachindex(new_genes)\n",
    "        if rand() < mutation_rate\n",
    "            new_genes[i] = rand()\n",
    "        end\n",
    "    end\n",
    "    Individual(ind.layers, new_genes)\n",
    "end"
   ]
  },
  {
   "cell_type": "markdown",
   "id": "phantom-amino",
   "metadata": {
    "slideshow": {
     "slide_type": "subslide"
    }
   },
   "source": [
    "## Cartpole"
   ]
  },
  {
   "cell_type": "code",
   "execution_count": 38,
   "id": "included-merit",
   "metadata": {},
   "outputs": [
    {
     "data": {
      "text/plain": [
       "evaluate! (generic function with 1 method)"
      ]
     },
     "execution_count": 38,
     "metadata": {},
     "output_type": "execute_result"
    }
   ],
   "source": [
    "function play_cartpole(ind::Individual, render=false)\n",
    "    env_name=\"CartPole-v1\"\n",
    "    env = gym.make(env_name)\n",
    "    env.seed(0)\n",
    "    obs = env.reset()\n",
    "    total_reward = 0.0\n",
    "    done = false\n",
    "    for i in 1:200\n",
    "        action = ind.model(obs)\n",
    "        action = argmax(action) - 1\n",
    "        \n",
    "        obs, reward, done, _ = env.step(action)\n",
    "        if render\n",
    "            env.render(mode=\"human\")\n",
    "        end\n",
    "        total_reward += reward\n",
    "    end\n",
    "    env.close()\n",
    "    total_reward\n",
    "end\n",
    "\n",
    "function evaluate!(ind::Individual, objective::Function)\n",
    "    ind.fitness = objective(ind)\n",
    "end"
   ]
  },
  {
   "cell_type": "markdown",
   "id": "animal-silicon",
   "metadata": {
    "slideshow": {
     "slide_type": "subslide"
    }
   },
   "source": [
    "## 1+$\\lambda$ EA"
   ]
  },
  {
   "cell_type": "code",
   "execution_count": 39,
   "id": "32d7d5d4",
   "metadata": {},
   "outputs": [
    {
     "data": {
      "text/plain": [
       "one_plus_lambda (generic function with 1 method)"
      ]
     },
     "execution_count": 39,
     "metadata": {},
     "output_type": "execute_result"
    }
   ],
   "source": [
    "function one_plus_lambda(layers::Array, num_generations::Int, f::Function, 𝜆::Int)\n",
    "\n",
    "    fits = zeros(num_generations)\n",
    "    expert = Individual(layers::Array)\n",
    "    evaluate!(expert, f)\n",
    "\n",
    "    for i in eachindex(fits)\n",
    "        population = Array{Individual}(undef, 𝜆)\n",
    "        best = 1\n",
    "        for j in eachindex(population)\n",
    "            population[j] = mutate(expert)\n",
    "            evaluate!(population[j], f)\n",
    "            if population[j].fitness > population[best].fitness\n",
    "                best = j\n",
    "            end\n",
    "        end\n",
    "\n",
    "        if population[best].fitness >= expert.fitness\n",
    "            expert = population[best]\n",
    "        end\n",
    "\n",
    "        fits[i] = expert.fitness\n",
    "        print(i, \"/\",  num_generations, \" > \", expert.fitness, \"\\t\\t\\r\")\n",
    "    end\n",
    "    fits, expert\n",
    "end\n"
   ]
  },
  {
   "cell_type": "code",
   "execution_count": 40,
   "id": "41365571",
   "metadata": {
    "slideshow": {
     "slide_type": "subslide"
    }
   },
   "outputs": [
    {
     "data": {
      "text/plain": [
       "460"
      ]
     },
     "execution_count": 40,
     "metadata": {},
     "output_type": "execute_result"
    }
   ],
   "source": [
    "𝜆=5\n",
    "layers = [4, 16, 16, 2]\n",
    "ind = Individual(layers)\n",
    "n = length(ind.genes)\n",
    "n_gens = Int(round(n * log(n) / 𝜆))"
   ]
  },
  {
   "cell_type": "code",
   "execution_count": 41,
   "id": "clinical-illinois",
   "metadata": {
    "slideshow": {
     "slide_type": "-"
    }
   },
   "outputs": [
    {
     "name": "stdout",
     "output_type": "stream",
     "text": [
      "11/460 > 271.0\t\t\t\t\t\t\t\t\t/"
     ]
    },
    {
     "ename": "LoadError",
     "evalue": "InterruptException:",
     "output_type": "error",
     "traceback": [
      "InterruptException:",
      "",
      "Stacktrace:",
      "  [1] try_yieldto(undo::typeof(Base.ensure_rescheduled))",
      "    @ Base .\\task.jl:710",
      "  [2] wait",
      "    @ .\\task.jl:769 [inlined]",
      "  [3] uv_write(s::Base.PipeEndpoint, p::Ptr{UInt8}, n::UInt64)",
      "    @ Base .\\stream.jl:992",
      "  [4] unsafe_write(s::Base.PipeEndpoint, p::Ptr{UInt8}, n::UInt64)",
      "    @ Base .\\stream.jl:1064",
      "  [5] unsafe_write",
      "    @ .\\io.jl:361 [inlined]",
      "  [6] write",
      "    @ .\\strings\\io.jl:185 [inlined]",
      "  [7] print(io::IJulia.IJuliaStdio{Base.PipeEndpoint}, s::String)",
      "    @ Base .\\strings\\io.jl:187",
      "  [8] print(::IJulia.IJuliaStdio{Base.PipeEndpoint}, ::Int64, ::String, ::Vararg{Any, N} where N)",
      "    @ Base .\\strings\\io.jl:46",
      "  [9] print(::Int64, ::String, ::Int64, ::Vararg{Any, N} where N)",
      "    @ Base .\\coreio.jl:3",
      " [10] one_plus_lambda(layers::Vector{Int64}, num_generations::Int64, f::Function, 𝜆::Int64)",
      "    @ Main .\\In[39]:23",
      " [11] top-level scope",
      "    @ In[41]:1",
      " [12] eval",
      "    @ .\\boot.jl:360 [inlined]",
      " [13] include_string(mapexpr::typeof(REPL.softscope), mod::Module, code::String, filename::String)",
      "    @ Base .\\loading.jl:1094"
     ]
    }
   ],
   "source": [
    "fits, expert = one_plus_lambda(layers, n_gens, play_cartpole, 𝜆)\n",
    "plot(fits)"
   ]
  },
  {
   "cell_type": "markdown",
   "id": "marked-monthly",
   "metadata": {
    "slideshow": {
     "slide_type": "slide"
    }
   },
   "source": [
    "## Evolutionary Strategies"
   ]
  },
  {
   "cell_type": "code",
   "execution_count": 29,
   "id": "pressing-counter",
   "metadata": {},
   "outputs": [
    {
     "data": {
      "text/plain": [
       "ES (generic function with 4 methods)"
      ]
     },
     "execution_count": 29,
     "metadata": {},
     "output_type": "execute_result"
    }
   ],
   "source": [
    "using Statistics\n",
    "using LinearAlgebra\n",
    "\n",
    "function ES(layers::Array, num_generations::Int, f::Function, npop::Int=50, sigma=0.5, alpha=0.01)\n",
    "    µ = Individual(layers::Array) # Center\n",
    "    n = length(µ.genes)\n",
    "    evaluate!(µ, f)\n",
    "\n",
    "    expert = µ # Best individual so far\n",
    "\n",
    "    fits = zeros(num_generations)\n",
    "\n",
    "    for i in eachindex(fits)\n",
    "        population = Array{Individual}(undef, 𝜆)\n",
    "        best = 1\n",
    "        for j in eachindex(population)\n",
    "            new_genes = µ.genes + randn(n) .* sigma\n",
    "            population[j] = Individual(layers, new_genes)\n",
    "            evaluate!(population[j], f)\n",
    "            if population[j].fitness > population[best].fitness\n",
    "                best = j\n",
    "            end\n",
    "        end\n",
    "\n",
    "        if population[best].fitness >= expert.fitness\n",
    "            expert = population[best]\n",
    "        end\n",
    "\n",
    "        fits[i] = expert.fitness\n",
    "\n",
    "        # TODO: µ update\n",
    "        # µ.genes = µ.genes .+ step .* alpha\n",
    "\n",
    "        print(i, \"/\",  num_generations, \" > \", expert.fitness, \"\\t\\t\\r\")\n",
    "    end\n",
    "    fits, expert\n",
    "end\n"
   ]
  },
  {
   "cell_type": "code",
   "execution_count": 30,
   "id": "c90b71d0",
   "metadata": {},
   "outputs": [],
   "source": [
    "## Uncomment and run the next line to load a solution \n",
    "# IJulia.load(\"solutions/es.jl\") "
   ]
  },
  {
   "cell_type": "code",
   "execution_count": 36,
   "id": "superb-sequence",
   "metadata": {
    "slideshow": {
     "slide_type": "subslide"
    }
   },
   "outputs": [
    {
     "data": {
      "text/plain": [
       "386"
      ]
     },
     "execution_count": 36,
     "metadata": {},
     "output_type": "execute_result"
    }
   ],
   "source": [
    "layers = [4, 16, 16, 2]\n",
    "ind = Individual(layers)\n",
    "n = length(ind.genes)"
   ]
  },
  {
   "cell_type": "code",
   "execution_count": 32,
   "id": "personalized-future",
   "metadata": {},
   "outputs": [
    {
     "name": "stdout",
     "output_type": "stream",
     "text": [
      "50/50 > 200.0\t\t\t\t\t\t\t\t\t\t\t\t\t\t\t\t\t\t\t\t\t\t\t\t\t\t\t\t\t\t\r"
     ]
    },
    {
     "data": {
      "image/svg+xml": [
       "<?xml version=\"1.0\" encoding=\"utf-8\"?>\n",
       "<svg xmlns=\"http://www.w3.org/2000/svg\" xmlns:xlink=\"http://www.w3.org/1999/xlink\" width=\"600\" height=\"400\" viewBox=\"0 0 2400 1600\">\n",
       "<defs>\n",
       "  <clipPath id=\"clip7600\">\n",
       "    <rect x=\"0\" y=\"0\" width=\"2400\" height=\"1600\"/>\n",
       "  </clipPath>\n",
       "</defs>\n",
       "<path clip-path=\"url(#clip7600)\" d=\"\n",
       "M0 1600 L2400 1600 L2400 0 L0 0  Z\n",
       "  \" fill=\"#ffffff\" fill-rule=\"evenodd\" fill-opacity=\"1\"/>\n",
       "<defs>\n",
       "  <clipPath id=\"clip7601\">\n",
       "    <rect x=\"480\" y=\"0\" width=\"1681\" height=\"1600\"/>\n",
       "  </clipPath>\n",
       "</defs>\n",
       "<path clip-path=\"url(#clip7600)\" d=\"\n",
       "M162.964 1486.45 L2352.76 1486.45 L2352.76 47.2441 L162.964 47.2441  Z\n",
       "  \" fill=\"#ffffff\" fill-rule=\"evenodd\" fill-opacity=\"1\"/>\n",
       "<defs>\n",
       "  <clipPath id=\"clip7602\">\n",
       "    <rect x=\"162\" y=\"47\" width=\"2191\" height=\"1440\"/>\n",
       "  </clipPath>\n",
       "</defs>\n",
       "<polyline clip-path=\"url(#clip7602)\" style=\"stroke:#000000; stroke-width:2; stroke-opacity:0.1; fill:none\" points=\"\n",
       "  182.779,1486.45 182.779,47.2441 \n",
       "  \"/>\n",
       "<polyline clip-path=\"url(#clip7602)\" style=\"stroke:#000000; stroke-width:2; stroke-opacity:0.1; fill:none\" points=\"\n",
       "  604.379,1486.45 604.379,47.2441 \n",
       "  \"/>\n",
       "<polyline clip-path=\"url(#clip7602)\" style=\"stroke:#000000; stroke-width:2; stroke-opacity:0.1; fill:none\" points=\"\n",
       "  1025.98,1486.45 1025.98,47.2441 \n",
       "  \"/>\n",
       "<polyline clip-path=\"url(#clip7602)\" style=\"stroke:#000000; stroke-width:2; stroke-opacity:0.1; fill:none\" points=\"\n",
       "  1447.58,1486.45 1447.58,47.2441 \n",
       "  \"/>\n",
       "<polyline clip-path=\"url(#clip7602)\" style=\"stroke:#000000; stroke-width:2; stroke-opacity:0.1; fill:none\" points=\"\n",
       "  1869.18,1486.45 1869.18,47.2441 \n",
       "  \"/>\n",
       "<polyline clip-path=\"url(#clip7602)\" style=\"stroke:#000000; stroke-width:2; stroke-opacity:0.1; fill:none\" points=\"\n",
       "  2290.78,1486.45 2290.78,47.2441 \n",
       "  \"/>\n",
       "<polyline clip-path=\"url(#clip7602)\" style=\"stroke:#000000; stroke-width:2; stroke-opacity:0.1; fill:none\" points=\"\n",
       "  162.964,1272.05 2352.76,1272.05 \n",
       "  \"/>\n",
       "<polyline clip-path=\"url(#clip7602)\" style=\"stroke:#000000; stroke-width:2; stroke-opacity:0.1; fill:none\" points=\"\n",
       "  162.964,877.36 2352.76,877.36 \n",
       "  \"/>\n",
       "<polyline clip-path=\"url(#clip7602)\" style=\"stroke:#000000; stroke-width:2; stroke-opacity:0.1; fill:none\" points=\"\n",
       "  162.964,482.668 2352.76,482.668 \n",
       "  \"/>\n",
       "<polyline clip-path=\"url(#clip7602)\" style=\"stroke:#000000; stroke-width:2; stroke-opacity:0.1; fill:none\" points=\"\n",
       "  162.964,87.9763 2352.76,87.9763 \n",
       "  \"/>\n",
       "<polyline clip-path=\"url(#clip7600)\" style=\"stroke:#000000; stroke-width:4; stroke-opacity:1; fill:none\" points=\"\n",
       "  162.964,1486.45 2352.76,1486.45 \n",
       "  \"/>\n",
       "<polyline clip-path=\"url(#clip7600)\" style=\"stroke:#000000; stroke-width:4; stroke-opacity:1; fill:none\" points=\"\n",
       "  162.964,1486.45 162.964,47.2441 \n",
       "  \"/>\n",
       "<polyline clip-path=\"url(#clip7600)\" style=\"stroke:#000000; stroke-width:4; stroke-opacity:1; fill:none\" points=\"\n",
       "  182.779,1486.45 182.779,1469.18 \n",
       "  \"/>\n",
       "<polyline clip-path=\"url(#clip7600)\" style=\"stroke:#000000; stroke-width:4; stroke-opacity:1; fill:none\" points=\"\n",
       "  604.379,1486.45 604.379,1469.18 \n",
       "  \"/>\n",
       "<polyline clip-path=\"url(#clip7600)\" style=\"stroke:#000000; stroke-width:4; stroke-opacity:1; fill:none\" points=\"\n",
       "  1025.98,1486.45 1025.98,1469.18 \n",
       "  \"/>\n",
       "<polyline clip-path=\"url(#clip7600)\" style=\"stroke:#000000; stroke-width:4; stroke-opacity:1; fill:none\" points=\"\n",
       "  1447.58,1486.45 1447.58,1469.18 \n",
       "  \"/>\n",
       "<polyline clip-path=\"url(#clip7600)\" style=\"stroke:#000000; stroke-width:4; stroke-opacity:1; fill:none\" points=\"\n",
       "  1869.18,1486.45 1869.18,1469.18 \n",
       "  \"/>\n",
       "<polyline clip-path=\"url(#clip7600)\" style=\"stroke:#000000; stroke-width:4; stroke-opacity:1; fill:none\" points=\"\n",
       "  2290.78,1486.45 2290.78,1469.18 \n",
       "  \"/>\n",
       "<polyline clip-path=\"url(#clip7600)\" style=\"stroke:#000000; stroke-width:4; stroke-opacity:1; fill:none\" points=\"\n",
       "  162.964,1272.05 189.241,1272.05 \n",
       "  \"/>\n",
       "<polyline clip-path=\"url(#clip7600)\" style=\"stroke:#000000; stroke-width:4; stroke-opacity:1; fill:none\" points=\"\n",
       "  162.964,877.36 189.241,877.36 \n",
       "  \"/>\n",
       "<polyline clip-path=\"url(#clip7600)\" style=\"stroke:#000000; stroke-width:4; stroke-opacity:1; fill:none\" points=\"\n",
       "  162.964,482.668 189.241,482.668 \n",
       "  \"/>\n",
       "<polyline clip-path=\"url(#clip7600)\" style=\"stroke:#000000; stroke-width:4; stroke-opacity:1; fill:none\" points=\"\n",
       "  162.964,87.9763 189.241,87.9763 \n",
       "  \"/>\n",
       "<path clip-path=\"url(#clip7600)\" d=\"M 0 0 M182.779 1508.44 Q179.168 1508.44 177.339 1512 Q175.534 1515.55 175.534 1522.67 Q175.534 1529.78 177.339 1533.35 Q179.168 1536.89 182.779 1536.89 Q186.413 1536.89 188.219 1533.35 Q190.048 1529.78 190.048 1522.67 Q190.048 1515.55 188.219 1512 Q186.413 1508.44 182.779 1508.44 M182.779 1504.73 Q188.589 1504.73 191.645 1509.34 Q194.724 1513.92 194.724 1522.67 Q194.724 1531.4 191.645 1536.01 Q188.589 1540.59 182.779 1540.59 Q176.969 1540.59 173.89 1536.01 Q170.835 1531.4 170.835 1522.67 Q170.835 1513.92 173.89 1509.34 Q176.969 1504.73 182.779 1504.73 Z\" fill=\"#000000\" fill-rule=\"evenodd\" fill-opacity=\"1\" /><path clip-path=\"url(#clip7600)\" d=\"M 0 0 M581.255 1535.98 L588.893 1535.98 L588.893 1509.62 L580.583 1511.29 L580.583 1507.03 L588.847 1505.36 L593.523 1505.36 L593.523 1535.98 L601.162 1535.98 L601.162 1539.92 L581.255 1539.92 L581.255 1535.98 Z\" fill=\"#000000\" fill-rule=\"evenodd\" fill-opacity=\"1\" /><path clip-path=\"url(#clip7600)\" d=\"M 0 0 M616.231 1508.44 Q612.62 1508.44 610.791 1512 Q608.986 1515.55 608.986 1522.67 Q608.986 1529.78 610.791 1533.35 Q612.62 1536.89 616.231 1536.89 Q619.865 1536.89 621.671 1533.35 Q623.5 1529.78 623.5 1522.67 Q623.5 1515.55 621.671 1512 Q619.865 1508.44 616.231 1508.44 M616.231 1504.73 Q622.041 1504.73 625.097 1509.34 Q628.176 1513.92 628.176 1522.67 Q628.176 1531.4 625.097 1536.01 Q622.041 1540.59 616.231 1540.59 Q610.421 1540.59 607.342 1536.01 Q604.287 1531.4 604.287 1522.67 Q604.287 1513.92 607.342 1509.34 Q610.421 1504.73 616.231 1504.73 Z\" fill=\"#000000\" fill-rule=\"evenodd\" fill-opacity=\"1\" /><path clip-path=\"url(#clip7600)\" d=\"M 0 0 M1007.13 1535.98 L1023.45 1535.98 L1023.45 1539.92 L1001.5 1539.92 L1001.5 1535.98 Q1004.16 1533.23 1008.75 1528.6 Q1013.35 1523.95 1014.53 1522.61 Q1016.78 1520.08 1017.66 1518.35 Q1018.56 1516.59 1018.56 1514.9 Q1018.56 1512.14 1016.62 1510.41 Q1014.7 1508.67 1011.59 1508.67 Q1009.39 1508.67 1006.94 1509.43 Q1004.51 1510.2 1001.73 1511.75 L1001.73 1507.03 Q1004.56 1505.89 1007.01 1505.31 Q1009.46 1504.73 1011.5 1504.73 Q1016.87 1504.73 1020.07 1507.42 Q1023.26 1510.11 1023.26 1514.6 Q1023.26 1516.73 1022.45 1518.65 Q1021.66 1520.54 1019.56 1523.14 Q1018.98 1523.81 1015.88 1527.03 Q1012.77 1530.22 1007.13 1535.98 Z\" fill=\"#000000\" fill-rule=\"evenodd\" fill-opacity=\"1\" /><path clip-path=\"url(#clip7600)\" d=\"M 0 0 M1038.51 1508.44 Q1034.9 1508.44 1033.07 1512 Q1031.27 1515.55 1031.27 1522.67 Q1031.27 1529.78 1033.07 1533.35 Q1034.9 1536.89 1038.51 1536.89 Q1042.15 1536.89 1043.95 1533.35 Q1045.78 1529.78 1045.78 1522.67 Q1045.78 1515.55 1043.95 1512 Q1042.15 1508.44 1038.51 1508.44 M1038.51 1504.73 Q1044.32 1504.73 1047.38 1509.34 Q1050.46 1513.92 1050.46 1522.67 Q1050.46 1531.4 1047.38 1536.01 Q1044.32 1540.59 1038.51 1540.59 Q1032.7 1540.59 1029.63 1536.01 Q1026.57 1531.4 1026.57 1522.67 Q1026.57 1513.92 1029.63 1509.34 Q1032.7 1504.73 1038.51 1504.73 Z\" fill=\"#000000\" fill-rule=\"evenodd\" fill-opacity=\"1\" /><path clip-path=\"url(#clip7600)\" d=\"M 0 0 M1438.32 1521.29 Q1441.68 1522 1443.55 1524.27 Q1445.45 1526.54 1445.45 1529.87 Q1445.45 1534.99 1441.93 1537.79 Q1438.41 1540.59 1431.93 1540.59 Q1429.76 1540.59 1427.44 1540.15 Q1425.15 1539.73 1422.7 1538.88 L1422.7 1534.36 Q1424.64 1535.5 1426.96 1536.08 Q1429.27 1536.66 1431.79 1536.66 Q1436.19 1536.66 1438.48 1534.92 Q1440.8 1533.18 1440.8 1529.87 Q1440.8 1526.82 1438.64 1525.11 Q1436.52 1523.37 1432.7 1523.37 L1428.67 1523.37 L1428.67 1519.53 L1432.88 1519.53 Q1436.33 1519.53 1438.16 1518.16 Q1439.99 1516.77 1439.99 1514.18 Q1439.99 1511.52 1438.09 1510.11 Q1436.21 1508.67 1432.7 1508.67 Q1430.77 1508.67 1428.58 1509.09 Q1426.38 1509.5 1423.74 1510.38 L1423.74 1506.22 Q1426.4 1505.48 1428.71 1505.11 Q1431.05 1504.73 1433.11 1504.73 Q1438.44 1504.73 1441.54 1507.17 Q1444.64 1509.57 1444.64 1513.69 Q1444.64 1516.56 1443 1518.55 Q1441.35 1520.52 1438.32 1521.29 Z\" fill=\"#000000\" fill-rule=\"evenodd\" fill-opacity=\"1\" /><path clip-path=\"url(#clip7600)\" d=\"M 0 0 M1460.52 1508.44 Q1456.91 1508.44 1455.08 1512 Q1453.27 1515.55 1453.27 1522.67 Q1453.27 1529.78 1455.08 1533.35 Q1456.91 1536.89 1460.52 1536.89 Q1464.15 1536.89 1465.96 1533.35 Q1467.79 1529.78 1467.79 1522.67 Q1467.79 1515.55 1465.96 1512 Q1464.15 1508.44 1460.52 1508.44 M1460.52 1504.73 Q1466.33 1504.73 1469.39 1509.34 Q1472.46 1513.92 1472.46 1522.67 Q1472.46 1531.4 1469.39 1536.01 Q1466.33 1540.59 1460.52 1540.59 Q1454.71 1540.59 1451.63 1536.01 Q1448.58 1531.4 1448.58 1522.67 Q1448.58 1513.92 1451.63 1509.34 Q1454.71 1504.73 1460.52 1504.73 Z\" fill=\"#000000\" fill-rule=\"evenodd\" fill-opacity=\"1\" /><path clip-path=\"url(#clip7600)\" d=\"M 0 0 M1858.68 1509.43 L1846.88 1527.88 L1858.68 1527.88 L1858.68 1509.43 M1857.46 1505.36 L1863.34 1505.36 L1863.34 1527.88 L1868.27 1527.88 L1868.27 1531.77 L1863.34 1531.77 L1863.34 1539.92 L1858.68 1539.92 L1858.68 1531.77 L1843.08 1531.77 L1843.08 1527.26 L1857.46 1505.36 Z\" fill=\"#000000\" fill-rule=\"evenodd\" fill-opacity=\"1\" /><path clip-path=\"url(#clip7600)\" d=\"M 0 0 M1883.34 1508.44 Q1879.72 1508.44 1877.9 1512 Q1876.09 1515.55 1876.09 1522.67 Q1876.09 1529.78 1877.9 1533.35 Q1879.72 1536.89 1883.34 1536.89 Q1886.97 1536.89 1888.78 1533.35 Q1890.6 1529.78 1890.6 1522.67 Q1890.6 1515.55 1888.78 1512 Q1886.97 1508.44 1883.34 1508.44 M1883.34 1504.73 Q1889.15 1504.73 1892.2 1509.34 Q1895.28 1513.92 1895.28 1522.67 Q1895.28 1531.4 1892.2 1536.01 Q1889.15 1540.59 1883.34 1540.59 Q1877.53 1540.59 1874.45 1536.01 Q1871.39 1531.4 1871.39 1522.67 Q1871.39 1513.92 1874.45 1509.34 Q1877.53 1504.73 1883.34 1504.73 Z\" fill=\"#000000\" fill-rule=\"evenodd\" fill-opacity=\"1\" /><path clip-path=\"url(#clip7600)\" d=\"M 0 0 M2267.55 1505.36 L2285.91 1505.36 L2285.91 1509.3 L2271.83 1509.3 L2271.83 1517.77 Q2272.85 1517.42 2273.87 1517.26 Q2274.89 1517.07 2275.91 1517.07 Q2281.7 1517.07 2285.07 1520.24 Q2288.45 1523.42 2288.45 1528.83 Q2288.45 1534.41 2284.98 1537.51 Q2281.51 1540.59 2275.19 1540.59 Q2273.01 1540.59 2270.75 1540.22 Q2268.5 1539.85 2266.09 1539.11 L2266.09 1534.41 Q2268.18 1535.54 2270.4 1536.1 Q2272.62 1536.66 2275.1 1536.66 Q2279.1 1536.66 2281.44 1534.55 Q2283.78 1532.44 2283.78 1528.83 Q2283.78 1525.22 2281.44 1523.11 Q2279.1 1521.01 2275.1 1521.01 Q2273.22 1521.01 2271.35 1521.42 Q2269.5 1521.84 2267.55 1522.72 L2267.55 1505.36 Z\" fill=\"#000000\" fill-rule=\"evenodd\" fill-opacity=\"1\" /><path clip-path=\"url(#clip7600)\" d=\"M 0 0 M2303.52 1508.44 Q2299.91 1508.44 2298.08 1512 Q2296.28 1515.55 2296.28 1522.67 Q2296.28 1529.78 2298.08 1533.35 Q2299.91 1536.89 2303.52 1536.89 Q2307.16 1536.89 2308.96 1533.35 Q2310.79 1529.78 2310.79 1522.67 Q2310.79 1515.55 2308.96 1512 Q2307.16 1508.44 2303.52 1508.44 M2303.52 1504.73 Q2309.33 1504.73 2312.39 1509.34 Q2315.47 1513.92 2315.47 1522.67 Q2315.47 1531.4 2312.39 1536.01 Q2309.33 1540.59 2303.52 1540.59 Q2297.71 1540.59 2294.63 1536.01 Q2291.58 1531.4 2291.58 1522.67 Q2291.58 1513.92 2294.63 1509.34 Q2297.71 1504.73 2303.52 1504.73 Z\" fill=\"#000000\" fill-rule=\"evenodd\" fill-opacity=\"1\" /><path clip-path=\"url(#clip7600)\" d=\"M 0 0 M91.0475 1254.77 L109.404 1254.77 L109.404 1258.71 L95.3299 1258.71 L95.3299 1267.18 Q96.3484 1266.83 97.3669 1266.67 Q98.3855 1266.48 99.404 1266.48 Q105.191 1266.48 108.571 1269.66 Q111.95 1272.83 111.95 1278.24 Q111.95 1283.82 108.478 1286.92 Q105.006 1290 98.6864 1290 Q96.5105 1290 94.242 1289.63 Q91.9966 1289.26 89.5892 1288.52 L89.5892 1283.82 Q91.6725 1284.96 93.8947 1285.51 Q96.1169 1286.07 98.5938 1286.07 Q102.598 1286.07 104.936 1283.96 Q107.274 1281.85 107.274 1278.24 Q107.274 1274.63 104.936 1272.53 Q102.598 1270.42 98.5938 1270.42 Q96.7188 1270.42 94.8438 1270.84 Q92.992 1271.25 91.0475 1272.13 L91.0475 1254.77 Z\" fill=\"#000000\" fill-rule=\"evenodd\" fill-opacity=\"1\" /><path clip-path=\"url(#clip7600)\" d=\"M 0 0 M127.02 1257.85 Q123.408 1257.85 121.58 1261.41 Q119.774 1264.96 119.774 1272.09 Q119.774 1279.19 121.58 1282.76 Q123.408 1286.3 127.02 1286.3 Q130.654 1286.3 132.459 1282.76 Q134.288 1279.19 134.288 1272.09 Q134.288 1264.96 132.459 1261.41 Q130.654 1257.85 127.02 1257.85 M127.02 1254.15 Q132.83 1254.15 135.885 1258.75 Q138.964 1263.34 138.964 1272.09 Q138.964 1280.81 135.885 1285.42 Q132.83 1290 127.02 1290 Q121.209 1290 118.131 1285.42 Q115.075 1280.81 115.075 1272.09 Q115.075 1263.34 118.131 1258.75 Q121.209 1254.15 127.02 1254.15 Z\" fill=\"#000000\" fill-rule=\"evenodd\" fill-opacity=\"1\" /><path clip-path=\"url(#clip7600)\" d=\"M 0 0 M65.0292 890.704 L72.668 890.704 L72.668 864.339 L64.3579 866.006 L64.3579 861.746 L72.6217 860.08 L77.2976 860.08 L77.2976 890.704 L84.9365 890.704 L84.9365 894.64 L65.0292 894.64 L65.0292 890.704 Z\" fill=\"#000000\" fill-rule=\"evenodd\" fill-opacity=\"1\" /><path clip-path=\"url(#clip7600)\" d=\"M 0 0 M100.006 863.158 Q96.3947 863.158 94.566 866.723 Q92.7605 870.265 92.7605 877.394 Q92.7605 884.501 94.566 888.066 Q96.3947 891.607 100.006 891.607 Q103.64 891.607 105.446 888.066 Q107.274 884.501 107.274 877.394 Q107.274 870.265 105.446 866.723 Q103.64 863.158 100.006 863.158 M100.006 859.455 Q105.816 859.455 108.872 864.061 Q111.95 868.644 111.95 877.394 Q111.95 886.121 108.872 890.728 Q105.816 895.311 100.006 895.311 Q94.1957 895.311 91.117 890.728 Q88.0614 886.121 88.0614 877.394 Q88.0614 868.644 91.117 864.061 Q94.1957 859.455 100.006 859.455 Z\" fill=\"#000000\" fill-rule=\"evenodd\" fill-opacity=\"1\" /><path clip-path=\"url(#clip7600)\" d=\"M 0 0 M127.02 863.158 Q123.408 863.158 121.58 866.723 Q119.774 870.265 119.774 877.394 Q119.774 884.501 121.58 888.066 Q123.408 891.607 127.02 891.607 Q130.654 891.607 132.459 888.066 Q134.288 884.501 134.288 877.394 Q134.288 870.265 132.459 866.723 Q130.654 863.158 127.02 863.158 M127.02 859.455 Q132.83 859.455 135.885 864.061 Q138.964 868.644 138.964 877.394 Q138.964 886.121 135.885 890.728 Q132.83 895.311 127.02 895.311 Q121.209 895.311 118.131 890.728 Q115.075 886.121 115.075 877.394 Q115.075 868.644 118.131 864.061 Q121.209 859.455 127.02 859.455 Z\" fill=\"#000000\" fill-rule=\"evenodd\" fill-opacity=\"1\" /><path clip-path=\"url(#clip7600)\" d=\"M 0 0 M66.0245 496.013 L73.6634 496.013 L73.6634 469.647 L65.3532 471.314 L65.3532 467.055 L73.6171 465.388 L78.293 465.388 L78.293 496.013 L85.9318 496.013 L85.9318 499.948 L66.0245 499.948 L66.0245 496.013 Z\" fill=\"#000000\" fill-rule=\"evenodd\" fill-opacity=\"1\" /><path clip-path=\"url(#clip7600)\" d=\"M 0 0 M91.0475 465.388 L109.404 465.388 L109.404 469.323 L95.3299 469.323 L95.3299 477.795 Q96.3484 477.448 97.3669 477.286 Q98.3855 477.101 99.404 477.101 Q105.191 477.101 108.571 480.272 Q111.95 483.443 111.95 488.86 Q111.95 494.439 108.478 497.541 Q105.006 500.619 98.6864 500.619 Q96.5105 500.619 94.242 500.249 Q91.9966 499.879 89.5892 499.138 L89.5892 494.439 Q91.6725 495.573 93.8947 496.129 Q96.1169 496.684 98.5938 496.684 Q102.598 496.684 104.936 494.578 Q107.274 492.471 107.274 488.86 Q107.274 485.249 104.936 483.143 Q102.598 481.036 98.5938 481.036 Q96.7188 481.036 94.8438 481.453 Q92.992 481.869 91.0475 482.749 L91.0475 465.388 Z\" fill=\"#000000\" fill-rule=\"evenodd\" fill-opacity=\"1\" /><path clip-path=\"url(#clip7600)\" d=\"M 0 0 M127.02 468.467 Q123.408 468.467 121.58 472.031 Q119.774 475.573 119.774 482.703 Q119.774 489.809 121.58 493.374 Q123.408 496.916 127.02 496.916 Q130.654 496.916 132.459 493.374 Q134.288 489.809 134.288 482.703 Q134.288 475.573 132.459 472.031 Q130.654 468.467 127.02 468.467 M127.02 464.763 Q132.83 464.763 135.885 469.369 Q138.964 473.953 138.964 482.703 Q138.964 491.429 135.885 496.036 Q132.83 500.619 127.02 500.619 Q121.209 500.619 118.131 496.036 Q115.075 491.429 115.075 482.703 Q115.075 473.953 118.131 469.369 Q121.209 464.763 127.02 464.763 Z\" fill=\"#000000\" fill-rule=\"evenodd\" fill-opacity=\"1\" /><path clip-path=\"url(#clip7600)\" d=\"M 0 0 M68.6171 101.321 L84.9365 101.321 L84.9365 105.256 L62.9921 105.256 L62.9921 101.321 Q65.6541 98.5665 70.2375 93.9369 Q74.8439 89.2841 76.0245 87.9416 Q78.2698 85.4184 79.1494 83.6823 Q80.0522 81.9231 80.0522 80.2333 Q80.0522 77.4786 78.1078 75.7425 Q76.1865 74.0064 73.0847 74.0064 Q70.8856 74.0064 68.4319 74.7703 Q66.0014 75.5342 63.2236 77.0851 L63.2236 72.3629 Q66.0477 71.2287 68.5014 70.65 Q70.955 70.0713 72.9921 70.0713 Q78.3624 70.0713 81.5568 72.7565 Q84.7513 75.4416 84.7513 79.9323 Q84.7513 82.062 83.9411 83.9832 Q83.1541 85.8814 81.0476 88.474 Q80.4689 89.1453 77.367 92.3628 Q74.2652 95.5573 68.6171 101.321 Z\" fill=\"#000000\" fill-rule=\"evenodd\" fill-opacity=\"1\" /><path clip-path=\"url(#clip7600)\" d=\"M 0 0 M100.006 73.775 Q96.3947 73.775 94.566 77.3398 Q92.7605 80.8814 92.7605 88.011 Q92.7605 95.1174 94.566 98.6822 Q96.3947 102.224 100.006 102.224 Q103.64 102.224 105.446 98.6822 Q107.274 95.1174 107.274 88.011 Q107.274 80.8814 105.446 77.3398 Q103.64 73.775 100.006 73.775 M100.006 70.0713 Q105.816 70.0713 108.872 74.6777 Q111.95 79.261 111.95 88.011 Q111.95 96.7378 108.872 101.344 Q105.816 105.928 100.006 105.928 Q94.1957 105.928 91.117 101.344 Q88.0614 96.7378 88.0614 88.011 Q88.0614 79.261 91.117 74.6777 Q94.1957 70.0713 100.006 70.0713 Z\" fill=\"#000000\" fill-rule=\"evenodd\" fill-opacity=\"1\" /><path clip-path=\"url(#clip7600)\" d=\"M 0 0 M127.02 73.775 Q123.408 73.775 121.58 77.3398 Q119.774 80.8814 119.774 88.011 Q119.774 95.1174 121.58 98.6822 Q123.408 102.224 127.02 102.224 Q130.654 102.224 132.459 98.6822 Q134.288 95.1174 134.288 88.011 Q134.288 80.8814 132.459 77.3398 Q130.654 73.775 127.02 73.775 M127.02 70.0713 Q132.83 70.0713 135.885 74.6777 Q138.964 79.261 138.964 88.011 Q138.964 96.7378 135.885 101.344 Q132.83 105.928 127.02 105.928 Q121.209 105.928 118.131 101.344 Q115.075 96.7378 115.075 88.011 Q115.075 79.261 118.131 74.6777 Q121.209 70.0713 127.02 70.0713 Z\" fill=\"#000000\" fill-rule=\"evenodd\" fill-opacity=\"1\" /><polyline clip-path=\"url(#clip7602)\" style=\"stroke:#009af9; stroke-width:4; stroke-opacity:1; fill:none\" points=\"\n",
       "  224.939,1445.72 267.099,1208.9 309.259,1208.9 351.419,1208.9 393.579,1208.9 435.739,1208.9 477.899,1208.9 520.059,1208.9 562.219,1201.01 604.379,1201.01 \n",
       "  646.539,1122.07 688.7,1122.07 730.86,1122.07 773.02,1122.07 815.18,1122.07 857.34,979.979 899.5,979.979 941.66,979.979 983.82,979.979 1025.98,837.89 \n",
       "  1068.14,837.89 1110.3,743.164 1152.46,743.164 1194.62,743.164 1236.78,743.164 1278.94,482.668 1321.1,482.668 1363.26,482.668 1405.42,482.668 1447.58,87.9763 \n",
       "  1489.74,87.9763 1531.9,87.9763 1574.06,87.9763 1616.22,87.9763 1658.38,87.9763 1700.54,87.9763 1742.7,87.9763 1784.86,87.9763 1827.02,87.9763 1869.18,87.9763 \n",
       "  1911.34,87.9763 1953.5,87.9763 1995.66,87.9763 2037.82,87.9763 2079.98,87.9763 2122.14,87.9763 2164.3,87.9763 2206.46,87.9763 2248.62,87.9763 2290.78,87.9763 \n",
       "  \n",
       "  \"/>\n",
       "<path clip-path=\"url(#clip7600)\" d=\"\n",
       "M1989.74 251.724 L2280.76 251.724 L2280.76 130.764 L1989.74 130.764  Z\n",
       "  \" fill=\"#ffffff\" fill-rule=\"evenodd\" fill-opacity=\"1\"/>\n",
       "<polyline clip-path=\"url(#clip7600)\" style=\"stroke:#000000; stroke-width:4; stroke-opacity:1; fill:none\" points=\"\n",
       "  1989.74,251.724 2280.76,251.724 2280.76,130.764 1989.74,130.764 1989.74,251.724 \n",
       "  \"/>\n",
       "<polyline clip-path=\"url(#clip7600)\" style=\"stroke:#009af9; stroke-width:4; stroke-opacity:1; fill:none\" points=\"\n",
       "  2013.74,191.244 2157.74,191.244 \n",
       "  \"/>\n",
       "<path clip-path=\"url(#clip7600)\" d=\"M 0 0 M2195.58 210.931 Q2193.77 215.561 2192.06 216.973 Q2190.35 218.385 2187.48 218.385 L2184.08 218.385 L2184.08 214.82 L2186.58 214.82 Q2188.33 214.82 2189.31 213.987 Q2190.28 213.154 2191.46 210.052 L2192.22 208.107 L2181.74 182.598 L2186.25 182.598 L2194.35 202.876 L2202.46 182.598 L2206.97 182.598 L2195.58 210.931 Z\" fill=\"#000000\" fill-rule=\"evenodd\" fill-opacity=\"1\" /><path clip-path=\"url(#clip7600)\" d=\"M 0 0 M2212.85 204.589 L2220.49 204.589 L2220.49 178.223 L2212.18 179.89 L2212.18 175.631 L2220.44 173.964 L2225.12 173.964 L2225.12 204.589 L2232.76 204.589 L2232.76 208.524 L2212.85 208.524 L2212.85 204.589 Z\" fill=\"#000000\" fill-rule=\"evenodd\" fill-opacity=\"1\" /></svg>\n"
      ]
     },
     "execution_count": 32,
     "metadata": {},
     "output_type": "execute_result"
    }
   ],
   "source": [
    "fits, expert = ES(layers, 50, play_cartpole, 5)\n",
    "plot(fits)"
   ]
  },
  {
   "cell_type": "code",
   "execution_count": 37,
   "id": "5e3faf9b",
   "metadata": {},
   "outputs": [
    {
     "data": {
      "text/plain": [
       "157.0"
      ]
     },
     "execution_count": 37,
     "metadata": {},
     "output_type": "execute_result"
    }
   ],
   "source": [
    "play_cartpole(ind, true)"
   ]
  },
  {
   "cell_type": "code",
   "execution_count": null,
   "id": "143754b2",
   "metadata": {},
   "outputs": [],
   "source": []
  }
 ],
 "metadata": {
  "celltoolbar": "Diaporama",
  "kernelspec": {
   "display_name": "Julia 1.6.1",
   "language": "julia",
   "name": "julia-1.6"
  },
  "language_info": {
   "file_extension": ".jl",
   "mimetype": "application/julia",
   "name": "julia",
   "version": "1.6.1"
  }
 },
 "nbformat": 4,
 "nbformat_minor": 5
}
